{
 "cells": [
  {
   "cell_type": "markdown",
   "metadata": {},
   "source": [
    "_Neural Data Analysis_\n",
    "\n",
    "Lecturer: Prof. Dr. Philipp Berens, Dr. Alexander Ecker\n",
    "\n",
    "Tutors: Sarah Strauss, Santiago Cadena\n",
    "\n",
    "Summer term 2019\n",
    "\n",
    "Due date: 2019-05-21, 9am\n",
    "\n",
    "Student name: FILL IN YOUR NAMES HERE\n",
    "\n",
    "# Exercise sheet 4\n",
    "\n",
    "Two-photon imaging is widely used to study computations in populations of neurons. In this exercise sheet we will study properties of different indicators and work on methods to infer spikes from calcium traces. All data is provided at a sampling rate of 100 Hz. For analysis, please resample it to 25 Hz using `np.decimate`."
   ]
  },
  {
   "cell_type": "code",
   "execution_count": 1,
   "metadata": {},
   "outputs": [],
   "source": [
    "import pandas as pd\n",
    "import seaborn as sns\n",
    "import matplotlib.pyplot as plt\n",
    "import numpy as np\n",
    "from scipy import signal\n",
    "from scipy.io import loadmat\n",
    "\n",
    "sns.set_style('whitegrid')\n",
    "%matplotlib inline"
   ]
  },
  {
   "cell_type": "markdown",
   "metadata": {},
   "source": [
    "## Load data"
   ]
  },
  {
   "cell_type": "markdown",
   "metadata": {},
   "source": [
    "We are working with two different calcium indicators, for each there is also a spike recording."
   ]
  },
  {
   "cell_type": "code",
   "execution_count": null,
   "metadata": {},
   "outputs": [],
   "source": [
    "# ogb dataset from Theis et al. 2016 Neuron\n",
    "ogb_calcium = pd.read_csv('../data/nda_ex_4_ogb_calcium.csv', header=0)  \n",
    "ogb_spikes = pd.read_csv('../data/nda_ex_4_ogb_spikes.csv', header=0)  \n",
    "\n",
    "# gcamp dataset from Chen et al. 2013 Nature\n",
    "gcamp_calcium = pd.read_csv('../data/nda_ex_4_gcamp2_calcium.csv', header=0)  \n",
    "gcamp_spikes = pd.read_csv('../data/nda_ex_4_gcamp2_spikes.csv', header=0)  \n"
   ]
  },
  {
   "cell_type": "markdown",
   "metadata": {},
   "source": [
    "## Task 1: Visualization of calcium and spike recordings\n",
    "\n",
    "We start again by plotting the raw data - calcium and spike traces in this case. One dataset has been recorded using the synthetic calcium indicator OGB-1 at population imaging zoom (~100 cells in a field of view) and the other one using the genetically encoded indicator GCamp6f zooming in on individual cells. Plot the traces of an example cell from each dataset to show how spikes and calcium signals are related. A good example cell for the OGB-dataset is cell 5. Zoom in on a small segment of tens of seconds and offset the traces such that a valid comparison is possible.\n",
    "\n",
    "*Grading: 2 pts*"
   ]
  },
  {
   "cell_type": "code",
   "execution_count": null,
   "metadata": {},
   "outputs": [],
   "source": [
    "plt.figure(figsize=(5, 9))\n",
    "\n",
    "\n"
   ]
  },
  {
   "cell_type": "markdown",
   "metadata": {},
   "source": [
    "## Task 2: Simple deconvolution\n",
    "\n",
    "It is clear from the above plots that the calcium events happen in relationship to the spikes. As a first simple algorithm implement a deconvolution approach like presented in the lecture in the function `deconv_ca`. Assume an exponential kernel where the decay constant depends on the indicator ($\\tau_{OGB}= 0.5 s$, $\\tau_{GCaMP}= 0.1 s$). As we know that there can be no negative rates, apply a heavyside function to the output. Plot the kernel as well as an example cell with true and deconvolved spike rates. Scale the signals such as to facilitate comparisons.\n",
    "\n",
    "*Grading: 3 pts*\n"
   ]
  },
  {
   "cell_type": "code",
   "execution_count": null,
   "metadata": {},
   "outputs": [],
   "source": [
    "def deconv_ca(ca, sp, tau):\n",
    "# Compute the deconvolved calcium signal \n",
    "#   sp_hat = deconv_ca(ca, sp, tau) computes the deconvolved calcium signal\n",
    "#   using the indicator dependent exponential calicum kernel.\n",
    "#\n",
    "#   ca:    1 by T\n",
    "#   sp:    1 by T\n",
    "#   tau:   1 by 1\n",
    "#\n",
    "#   sp_hat: 1 by T\n",
    "\n",
    "   # fill your code here\n",
    "\n",
    "\n",
    "    return sp_hat"
   ]
  },
  {
   "cell_type": "markdown",
   "metadata": {},
   "source": [
    "#### Apply the function to the example OGB cell"
   ]
  },
  {
   "cell_type": "code",
   "execution_count": null,
   "metadata": {},
   "outputs": [],
   "source": [
    "idx = 4\n",
    "ca = signal.decimate(ogb_calcium.iloc[:,idx], 4)\n",
    "sp = signal.decimate(ogb_spikes.iloc[:,idx], 4)\n",
    "sp[sp<0] = 0 # remove decimation artefacts\n",
    "\n",
    "tau = .5\n",
    "\n",
    "sp_hat = deconv_ca(ca, sp, tau)"
   ]
  },
  {
   "cell_type": "code",
   "execution_count": null,
   "metadata": {},
   "outputs": [],
   "source": [
    "# fill in plot here\n"
   ]
  },
  {
   "cell_type": "markdown",
   "metadata": {},
   "source": [
    "### Apply the function to the example GCamP cell"
   ]
  },
  {
   "cell_type": "code",
   "execution_count": null,
   "metadata": {},
   "outputs": [],
   "source": [
    "idx = 5\n",
    "ca = signal.decimate(gcamp_calcium.iloc[:,idx], 4)\n",
    "sp = signal.decimate(gcamp_spikes.iloc[:,idx], 4)\n",
    "sp[sp<0] = 0 # remove decimation artefacts\n",
    "\n",
    "\n",
    "tau = .1\n",
    "\n",
    "sp_hat = deconv_ca(ca, sp, tau)"
   ]
  },
  {
   "cell_type": "code",
   "execution_count": null,
   "metadata": {},
   "outputs": [],
   "source": [
    "# fill in plot here"
   ]
  },
  {
   "cell_type": "markdown",
   "metadata": {},
   "source": [
    "## Task 3: Run more complex algorithm\n",
    "\n",
    "As reviewed in the lecture, a number of more complex algorithms for inferring spikes from calcium traces have been developed. Run an implemented algorithm on the data and plot the result. There is a choice of algorithms available, for example:\n",
    "\n",
    "* Vogelstein: [oopsi](https://github.com/liubenyuan/py-oopsi)\n",
    "* Theis: [c2s](https://github.com/lucastheis/c2s)\n",
    "* Friedrich: [OASIS](https://github.com/j-friedrich/OASIS)\n",
    "\n",
    "Note: If you have troubles with installing one of them maybe try another.\n",
    "\n",
    "*Grading: 2 pts*\n",
    "\n"
   ]
  },
  {
   "cell_type": "code",
   "execution_count": null,
   "metadata": {},
   "outputs": [],
   "source": []
  },
  {
   "cell_type": "code",
   "execution_count": null,
   "metadata": {},
   "outputs": [],
   "source": [
    "idx = 4\n",
    "ca = signal.decimate(ogb_calcium.iloc[:,idx], 4)\n",
    "sp = signal.decimate(ogb_spikes.iloc[:,idx], 4)\n",
    "sp[sp<0] = 0 # remove decimation artefacts\n",
    "\n",
    "\n",
    "# fill in algorithm here"
   ]
  },
  {
   "cell_type": "code",
   "execution_count": null,
   "metadata": {},
   "outputs": [],
   "source": [
    "# fill in plot here\n"
   ]
  },
  {
   "cell_type": "code",
   "execution_count": null,
   "metadata": {},
   "outputs": [],
   "source": [
    "idx = 5\n",
    "ca = signal.decimate(gcamp_calcium.iloc[:,idx], 4)\n",
    "sp = signal.decimate(gcamp_spikes.iloc[:,idx], 4)\n",
    "sp[sp<0] = 0 # remove decimation artefacts\n",
    "\n",
    "\n",
    "# fill in algorithm here"
   ]
  },
  {
   "cell_type": "code",
   "execution_count": null,
   "metadata": {},
   "outputs": [],
   "source": [
    "# fill in plot here\n",
    "\n"
   ]
  },
  {
   "cell_type": "markdown",
   "metadata": {},
   "source": [
    "## Task 4: Evaluation of algorithms\n",
    "\n",
    "To formally evaluate the algorithms on the two datasets run the deconvolution algorithm and the more complex one on all cells and compute the correlation coefficient between true and inferred spike trains. `DataFrames` from the `pandas` package are a useful tool for aggregating data and later plotting it. Create a dataframe with columns\n",
    "\n",
    "* algorithm\n",
    "* correlation\n",
    "* indicator\n",
    "\n",
    "and enter each cell. Plot the results using `stripplot` and/or `boxplot` in the `seaborn` package.\n",
    "\n",
    "*Grading: 3 pts*\n"
   ]
  },
  {
   "cell_type": "markdown",
   "metadata": {},
   "source": [
    "Evaluate on OGB data"
   ]
  },
  {
   "cell_type": "code",
   "execution_count": null,
   "metadata": {},
   "outputs": [],
   "source": [
    "\n"
   ]
  },
  {
   "cell_type": "markdown",
   "metadata": {},
   "source": [
    "Create OGB dataframe"
   ]
  },
  {
   "cell_type": "code",
   "execution_count": null,
   "metadata": {},
   "outputs": [],
   "source": []
  },
  {
   "cell_type": "markdown",
   "metadata": {},
   "source": [
    "Evaluate on GCamp data"
   ]
  },
  {
   "cell_type": "code",
   "execution_count": null,
   "metadata": {},
   "outputs": [],
   "source": [
    "\n"
   ]
  },
  {
   "cell_type": "markdown",
   "metadata": {},
   "source": [
    "Create GCamp dataframe"
   ]
  },
  {
   "cell_type": "code",
   "execution_count": null,
   "metadata": {},
   "outputs": [],
   "source": []
  },
  {
   "cell_type": "markdown",
   "metadata": {},
   "source": [
    "Combine both dataframes and plot"
   ]
  },
  {
   "cell_type": "code",
   "execution_count": null,
   "metadata": {},
   "outputs": [],
   "source": [
    "plt.figure(figsize=(3, 5))\n",
    "\n",
    "\n"
   ]
  },
  {
   "cell_type": "code",
   "execution_count": null,
   "metadata": {
    "collapsed": true
   },
   "outputs": [],
   "source": []
  }
 ],
 "metadata": {
  "anaconda-cloud": {},
  "kernelspec": {
   "display_name": "Python 3",
   "language": "python",
   "name": "python3"
  },
  "language_info": {
   "codemirror_mode": {
    "name": "ipython",
    "version": 3
   },
   "file_extension": ".py",
   "mimetype": "text/x-python",
   "name": "python",
   "nbconvert_exporter": "python",
   "pygments_lexer": "ipython3",
   "version": "3.6.4"
  },
  "nteract": {
   "version": "0.13.0"
  }
 },
 "nbformat": 4,
 "nbformat_minor": 1
}
