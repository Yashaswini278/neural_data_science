{
 "cells": [
  {
   "cell_type": "markdown",
   "metadata": {},
   "source": [
    "_Neural Data Analysis_\n",
    "\n",
    "Lecturer: Prof. Dr. Philipp Berens, Dr. Alexander Ecker\n",
    "\n",
    "Tutors: Sophie Laturnus, Santiago Cadena\n",
    "\n",
    "Summer term 2018\n",
    "\n",
    "Due date: 3.7.18\n",
    "\n",
    "Name: FILL IN YOUR NAMES HERE\n",
    "\n",
    "# Exercise sheet 7\n",
    "\n"
   ]
  },
  {
   "cell_type": "code",
   "execution_count": 1,
   "metadata": {},
   "outputs": [],
   "source": [
    "import pandas as pd\n",
    "import seaborn as sns\n",
    "import matplotlib.pyplot as plt\n",
    "import matplotlib as mpl\n",
    "import numpy as np\n",
    "\n",
    "mpl.rc(\"savefig\", dpi=72)\n",
    "\n",
    "import itertools\n",
    "\n",
    "sns.set_style('whitegrid')\n",
    "%matplotlib inline"
   ]
  },
  {
   "cell_type": "markdown",
   "metadata": {},
   "source": [
    "## Task: Implement entropy estimators\n",
    "\n",
    "\n"
   ]
  },
  {
   "cell_type": "markdown",
   "metadata": {},
   "source": [
    "### General framework\n",
    "\n",
    "Entropy is defined as \n",
    "\n",
    "$$\n",
    "H[p] = -\\sum_x p_x \\log p_x\n",
    "$$\n",
    "\n",
    "where $p_x = p(x=X)$. Here we assume that $X$ is a discrete random variable and that there are finitely many states $K$ that $X$ can take.\n",
    "\n",
    "We are interested in the entropy of discrete random variables, because of its relationship with mutual information:\n",
    "\n",
    "$$\n",
    "I[X|Y] = H[X] - H[X|Y]\n",
    "$$\n",
    "\n",
    "If we can estimate the entropy well, we can estimate the mutual information well. An application in neuroscience would be estimating the mutual information between a spike train modeled as a sequence of $1$s and $0$s (e.g. $(0,1,0,1,1)$) and a discrete set of stimuli.\n",
    "\n",
    "Note that a multivariate binary distribution modeling a spike train can always be mapped to a discrete univariate distribution, $\\mathbb{Z}_2 \\longrightarrow \\mathbb{Z_+}$, by interpreting each binary state $z \\in \\mathbb{Z}_2$ as its corresponding binary number and computing $f(z) = \\sum_i 2^{i} z_i$.\n",
    "\n",
    "As discussed in the lecture, the problem is that one always underestimates the true entropy of a distribution from samples. In this exercise you are meant to implement different estimators for discrete entropy and evaluate them on different discrete distributions:\n",
    "\n",
    "* Uniform distribution: $p(x=X) = \\frac{1}{K}$\n",
    "\n",
    "* \"Zipf's law\"- distribution: $p(x=X) = \\frac{1}{Z x} $, where $Z = \\sum_k 1/k$\n",
    "\n",
    "There is a really good series of blog posts about discrete entropy estimation to be found [here](http://www.nowozin.net/sebastian/blog/estimating-discrete-entropy-part-1.html), [here](http://www.nowozin.net/sebastian/blog/estimating-discrete-entropy-part-2.html) and [here](http://www.nowozin.net/sebastian/blog/estimating-discrete-entropy-part-3.html). \n",
    "\n",
    "Make sure you use binary logarithms throughout.\n"
   ]
  },
  {
   "cell_type": "markdown",
   "metadata": {},
   "source": [
    "### Implementation of the estimators\n",
    "\n",
    "Implement the\n",
    "\n",
    "* maximum likelihood estimator (1 pt)\n",
    "* miller-maddow corrected estimator (1 pt)\n",
    "* jack-knife corrected estimator (2 pt)\n",
    "* coverage adjusted estimator (1 pt).\n",
    "\n",
    "When implementing the jack-knife estimator, you may want to restrict the amount of resampling for performance reasons e.g. to 1000, even if more samples are available. By definition, $0\\log0=0$.\n",
    "\n",
    "In addition, implement or use one of the following more advanced estimators (1+3 pts, extra points if you use your own implementation):\n",
    "\n",
    "* [JVHW estimator](https://arxiv.org/abs/1406.6956) with code on [github](https://github.com/EEthinker/JVHW_Entropy_Estimators/tree/master/Python)\n",
    "* [Unseen estimator](http://papers.nips.cc/paper/5170-estimating-the-unseen-improved-estimators-for-entropy-and-other-properties) (includes Matlab code in Supplementary)\n",
    "* [Best Upper Bounds estimator](http://www.mitpressjournals.org/doi/abs/10.1162/089976603321780272) (Matlab code available on Ilias)\n",
    "\n",
    "For this part, you are allowed to use an existing implementation as well.\n"
   ]
  },
  {
   "cell_type": "code",
   "execution_count": 2,
   "metadata": {},
   "outputs": [],
   "source": [
    "def entropy_mle(phat):\n",
    "    '''\n",
    "    Maximum likelihood or plug-in estimator of discrete entropy\n",
    "    \n",
    "    phat:    estimate of the distribution / histogram\n",
    "    H:       entropy estimate\n",
    "    '''\n",
    "    \n",
    "    ndx = phat!=0\n",
    "    H = -np.sum(phat[ndx] * np.log2(phat[ndx]))\n",
    "    \n",
    "    return H\n"
   ]
  },
  {
   "cell_type": "code",
   "execution_count": 7,
   "metadata": {},
   "outputs": [],
   "source": [
    "def entropy_mm(phat, n):\n",
    "    '''\n",
    "    Miller-Maddow corrected estimator of discrete entropy\n",
    "    \n",
    "    phat:    estimate of the distribution / histogram\n",
    "    n:       sample size\n",
    "    H:       entropy estimate\n",
    "    '''\n",
    "    \n",
    "    d = np.sum(phat>0)\n",
    "    H = entropy_mle(phat) + (d-1)/2/n\n",
    "    \n",
    "    return H\n"
   ]
  },
  {
   "cell_type": "code",
   "execution_count": 70,
   "metadata": {},
   "outputs": [],
   "source": [
    "def entropy_jk(x, edges):\n",
    "    '''\n",
    "    Jack-knife corrected estimator of discrete entropy\n",
    "    \n",
    "\n",
    "    '''\n",
    "    n = np.max(x.shape)\n",
    "    phat = np.histogram(x,edges)[0]\n",
    "    \n",
    "    H_N_dot = []\n",
    "    for ix in range(np.min([n,1000])):#range(np.max(phat.shape)):\n",
    "        phat[x[ix]] -= 1\n",
    "        H_N_dot.append(entropy_mle(phat/(n-1)))\n",
    "        phat[x[ix]] +=1\n",
    "    \n",
    "    H = n*entropy_mle(phat/n)-(n-1)*np.mean(H_N_dot)\n",
    "    \n",
    "    return H"
   ]
  },
  {
   "cell_type": "code",
   "execution_count": 18,
   "metadata": {
    "collapsed": true
   },
   "outputs": [],
   "source": [
    "def entropy_cae(phat, n):\n",
    "    '''\n",
    "    coverage-adjusted estimator of discrete entropy\n",
    "    \n",
    "    phat:    estimate of the distribution / histogram\n",
    "    n:       sample size\n",
    "    H:       entropy estimate\n",
    "    '''\n",
    "    \n",
    "    hhat = phat * n \n",
    "    C = 1 - np.sum(hhat==1) / n\n",
    "    pc = C * phat\n",
    "    \n",
    "    incp = 1-(1-pc)**n\n",
    "    \n",
    "    ndx = pc!=0\n",
    "    \n",
    "    H = -np.sum(pc[ndx] * np.log2(pc[ndx]) / incp[ndx])\n",
    "    \n",
    "    return H\n",
    "    \n",
    "    \n",
    "    "
   ]
  },
  {
   "cell_type": "code",
   "execution_count": 92,
   "metadata": {
    "collapsed": true
   },
   "outputs": [],
   "source": [
    "import est_entro as ee\n",
    "\n",
    "def entropy_jvwh(x):\n",
    "    '''\n",
    "    JVHW estimator of discrete entropy\n",
    "    \n",
    "\n",
    "    '''\n",
    "    H = ee.est_entro_JVHW(x)[0]\n",
    "    \n",
    "    return H"
   ]
  },
  {
   "cell_type": "markdown",
   "metadata": {},
   "source": [
    "### Uniform distribution"
   ]
  },
  {
   "cell_type": "code",
   "execution_count": 4,
   "metadata": {},
   "outputs": [
    {
     "name": "stdout",
     "output_type": "stream",
     "text": [
      "10.0\n"
     ]
    }
   ],
   "source": [
    "D = 10\n",
    "N = 2**D\n",
    "\n",
    "p = 1/N * np.ones(N)   # true distribution\n",
    "\n",
    "H = - np.sum(p * np.log2(p))  # true entropy\n",
    "\n",
    "print(H)"
   ]
  },
  {
   "cell_type": "markdown",
   "metadata": {},
   "source": [
    "Sample from the uniform distribution using sample sizes of 100 and 10000. Plot the true distribution and the sampled distributions. What do you notice? (1 pt)"
   ]
  },
  {
   "cell_type": "code",
   "execution_count": 73,
   "metadata": {},
   "outputs": [
    {
     "data": {
      "text/plain": [
       "<matplotlib.legend.Legend at 0xcd9b5f8>"
      ]
     },
     "execution_count": 73,
     "metadata": {},
     "output_type": "execute_result"
    },
    {
     "data": {
      "image/png": "[encoded data removed]",
      "text/plain": [
       "<matplotlib.figure.Figure at 0xcff1860>"
      ]
     },
     "metadata": {},
     "output_type": "display_data"
    }
   ],
   "source": [
    "x = np.random.randint(0,N,100)\n",
    "edges = np.arange(0.5, N+.5, 1)\n",
    "phat, bins = np.histogram(x,edges)\n",
    "\n",
    "plt.plot(phat/100)\n",
    "\n",
    "x = np.random.randint(0,N,10000)\n",
    "phat, bins = np.histogram(x,edges)\n",
    "\n",
    "plt.plot(phat/10000)\n",
    "\n",
    "plt.plot(p)\n",
    "\n",
    "plt.xlim((0,N))\n",
    "plt.ylim((-.0005, 0.025))\n",
    "\n",
    "plt.legend(['N=100','N=10000','true'])\n"
   ]
  },
  {
   "cell_type": "markdown",
   "metadata": {},
   "source": [
    "Use the framework below to generate samples of different size (logarithmically spaced between 10 and 100000) and evaluate the different entropy estimators for multiple runs."
   ]
  },
  {
   "cell_type": "code",
   "execution_count": 94,
   "metadata": {},
   "outputs": [
    {
     "name": "stderr",
     "output_type": "stream",
     "text": [
      "C:\\Users\\pberens\\Anaconda3\\lib\\site-packages\\ipykernel\\__main__.py:14: VisibleDeprecationWarning: using a non-integer number instead of an integer will result in an error in the future\n"
     ]
    }
   ],
   "source": [
    "sampleSz = np.round(np.logspace(1,5,num=10))\n",
    "nRuns = 30\n",
    "\n",
    "edges = np.arange(-0.5, N, 1)\n",
    "\n",
    "h_mle = np.zeros((len(sampleSz),nRuns))\n",
    "h_mm = np.zeros((len(sampleSz),nRuns))\n",
    "h_jk = np.zeros((len(sampleSz),nRuns))\n",
    "h_cae = np.zeros((len(sampleSz),nRuns))\n",
    "h_jvhw = np.zeros((len(sampleSz),nRuns))\n",
    "\n",
    "for i, S in enumerate(sampleSz):\n",
    "    for j in np.arange(nRuns):\n",
    "        x = np.random.randint(0,N,S)\n",
    "        phat = np.histogram(x,edges)[0]\n",
    "        phat = phat / S\n",
    "        \n",
    "        h_mle[i,j] = entropy_mle(phat)\n",
    "        h_mm[i,j] = entropy_mm(phat, S)\n",
    "        h_cae[i,j] = entropy_cae(phat, S)\n",
    "        h_jk[i,j] = entropy_jk(x, edges)\n",
    "        \n",
    "        h_jvhw[i,j] = entropy_jvwh(x)\n",
    "        \n"
   ]
  },
  {
   "cell_type": "markdown",
   "metadata": {},
   "source": [
    "Plot the resulting average estimate of the entropy for each of the estimators. Which is best? If you implemented everything correctly, this plot should roughly look like in the lecture."
   ]
  },
  {
   "cell_type": "code",
   "execution_count": 95,
   "metadata": {},
   "outputs": [
    {
     "data": {
      "text/plain": [
       "<matplotlib.legend.Legend at 0xf9248d0>"
      ]
     },
     "execution_count": 95,
     "metadata": {},
     "output_type": "execute_result"
    },
    {
     "data": {
      "image/png": "[encoded data removed]",
      "text/plain": [
       "<matplotlib.figure.Figure at 0xf8c2860>"
      ]
     },
     "metadata": {},
     "output_type": "display_data"
    }
   ],
   "source": [
    "plt.semilogx(sampleSz,np.mean(h_mle, axis=1))\n",
    "\n",
    "plt.semilogx(sampleSz,np.mean(h_mm, axis=1))\n",
    "plt.semilogx(sampleSz, np.mean(h_cae, axis=1))\n",
    "plt.semilogx(sampleSz,np.mean(h_jk, axis=1))\n",
    "plt.semilogx(sampleSz,np.mean(h_jvhw, axis=1))\n",
    "\n",
    "\n",
    "plt.legend(['mle', 'mm',  'cae', 'jk', 'jvhw'])\n"
   ]
  },
  {
   "cell_type": "markdown",
   "metadata": {},
   "source": [
    "### Zipf distribution\n",
    "\n",
    "[Zipf's law ](https://en.wikipedia.org/wiki/Zipf%27s_law) refers to a family of power law like distributions for which $p_k \\sim 1/k^d$. We will simply use $d=1$ here.   \n",
    "\n",
    "Adapt the framework above to sample from a Zipf distribution and evaluate the estimators for this case. Are there differences to the uniform case? (3 pts)"
   ]
  },
  {
   "cell_type": "code",
   "execution_count": 106,
   "metadata": {},
   "outputs": [
    {
     "name": "stdout",
     "output_type": "stream",
     "text": [
      "7.5106497033\n"
     ]
    }
   ],
   "source": [
    "D = 10\n",
    "N = 2**D\n",
    "\n",
    "p = 1/(np.arange(0,N)+1)    # true distribution\n",
    "p = p/np.sum(p)\n",
    "\n",
    "H = - np.sum(p * np.log2(p))  # true entropy\n",
    "\n",
    "print(H)"
   ]
  },
  {
   "cell_type": "markdown",
   "metadata": {},
   "source": [
    "Sample from the Zipf distribution using sample sizes of 100 and 10000. Plot the true distribution and the sampled distributions. What do you notice? (1 pt)"
   ]
  },
  {
   "cell_type": "code",
   "execution_count": 113,
   "metadata": {},
   "outputs": [
    {
     "data": {
      "text/plain": [
       "<matplotlib.legend.Legend at 0x113169e8>"
      ]
     },
     "execution_count": 113,
     "metadata": {},
     "output_type": "execute_result"
    },
    {
     "data": {
      "image/png": "[encoded data removed]",
      "text/plain": [
       "<matplotlib.figure.Figure at 0x11177ba8>"
      ]
     },
     "metadata": {},
     "output_type": "display_data"
    }
   ],
   "source": [
    "x = np.random.choice(np.arange(0,N), 100, p=p)\n",
    "\n",
    "edges = np.arange(-0.5, N, 1)\n",
    "phat, bins = np.histogram(x,edges)\n",
    "\n",
    "plt.plot(phat/100)\n",
    "\n",
    "x = np.random.choice(np.arange(0,N), 10000, p=p)\n",
    "phat, bins = np.histogram(x,edges)\n",
    "\n",
    "plt.plot(phat/10000)\n",
    "\n",
    "plt.plot(p)\n",
    "\n",
    "plt.xlim((0,N))\n",
    "plt.ylim((-.0005, 0.025))\n",
    "\n",
    "plt.legend(['N=100','N=10000','true'])\n"
   ]
  },
  {
   "cell_type": "markdown",
   "metadata": {},
   "source": [
    "Use the framework below to generate samples of different size (logarithmically spaced between 10 and 100000) and evaluate the different entropy estimators for multiple runs."
   ]
  },
  {
   "cell_type": "code",
   "execution_count": 114,
   "metadata": {},
   "outputs": [
    {
     "name": "stderr",
     "output_type": "stream",
     "text": [
      "C:\\Users\\pberens\\Anaconda3\\lib\\site-packages\\ipykernel\\__main__.py:14: VisibleDeprecationWarning: using a non-integer number instead of an integer will result in an error in the future\n"
     ]
    }
   ],
   "source": [
    "sampleSz = np.round(np.logspace(1,5,num=10))\n",
    "nRuns = 30\n",
    "\n",
    "edges = np.arange(-0.5, N, 1)\n",
    "\n",
    "h_mle = np.zeros((len(sampleSz),nRuns))\n",
    "h_mm = np.zeros((len(sampleSz),nRuns))\n",
    "h_jk = np.zeros((len(sampleSz),nRuns))\n",
    "h_cae = np.zeros((len(sampleSz),nRuns))\n",
    "h_jvhw = np.zeros((len(sampleSz),nRuns))\n",
    "\n",
    "for i, S in enumerate(sampleSz):\n",
    "    for j in np.arange(nRuns):\n",
    "        x = np.random.choice(np.arange(0,N), S, p=p)\n",
    "        phat = np.histogram(x,edges)[0]\n",
    "        phat = phat / S\n",
    "        \n",
    "        h_mle[i,j] = entropy_mle(phat)\n",
    "        h_mm[i,j] = entropy_mm(phat, S)\n",
    "        h_cae[i,j] = entropy_cae(phat, S)\n",
    "        h_jk[i,j] = entropy_jk(x, edges)\n",
    "        \n",
    "        h_jvhw[i,j] = entropy_jvwh(x)\n",
    "        \n"
   ]
  },
  {
   "cell_type": "markdown",
   "metadata": {},
   "source": [
    "Plot resulting average estimate of the entropy for each of the estimators. Which is best? If you implemented everything correctly, this plot should roughly look like in the lecture."
   ]
  },
  {
   "cell_type": "code",
   "execution_count": 115,
   "metadata": {
    "scrolled": true
   },
   "outputs": [
    {
     "data": {
      "text/plain": [
       "<matplotlib.legend.Legend at 0x12367d68>"
      ]
     },
     "execution_count": 115,
     "metadata": {},
     "output_type": "execute_result"
    },
    {
     "data": {
      "image/png": "[encoded data removed]",
      "text/plain": [
       "<matplotlib.figure.Figure at 0x10f7ea58>"
      ]
     },
     "metadata": {},
     "output_type": "display_data"
    }
   ],
   "source": [
    "plt.semilogx(sampleSz,np.mean(h_mle, axis=1))\n",
    "\n",
    "plt.semilogx(sampleSz,np.mean(h_mm, axis=1))\n",
    "plt.semilogx(sampleSz, np.mean(h_cae, axis=1))\n",
    "plt.semilogx(sampleSz,np.mean(h_jk, axis=1))\n",
    "plt.semilogx(sampleSz,np.mean(h_jvhw, axis=1))\n",
    "\n",
    "\n",
    "plt.legend(['mle', 'mm',  'cae', 'jk', 'jvhw'])\n"
   ]
  }
 ],
 "metadata": {
  "anaconda-cloud": {},
  "kernelspec": {
   "display_name": "Python [default]",
   "language": "python",
   "name": "python3"
  },
  "language_info": {
   "codemirror_mode": {
    "name": "ipython",
    "version": 3
   },
   "file_extension": ".py",
   "mimetype": "text/x-python",
   "name": "python",
   "nbconvert_exporter": "python",
   "pygments_lexer": "ipython3",
   "version": "3.5.3"
  }
 },
 "nbformat": 4,
 "nbformat_minor": 1
}
