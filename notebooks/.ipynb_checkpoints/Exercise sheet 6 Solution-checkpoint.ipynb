{
 "cells": [
  {
   "cell_type": "markdown",
   "metadata": {},
   "source": [
    "_Neural Data Analysis_\n",
    "\n",
    "Lecturer: Prof. Dr. Philipp Berens, Dr. Alexander Ecker\n",
    "\n",
    "Tutors: Sophie Laturnus, Santiago Cadena\n",
    "\n",
    "Summer term 2018\n",
    "\n",
    "Due date: 26.6.18\n",
    "\n",
    "Name: FILL IN YOUR NAMES HERE\n",
    "\n",
    "# Exercise sheet 6\n",
    "\n"
   ]
  },
  {
   "cell_type": "code",
   "execution_count": 1,
   "metadata": {
    "collapsed": true
   },
   "outputs": [],
   "source": [
    "import pandas as pd\n",
    "import seaborn as sns\n",
    "import matplotlib.pyplot as plt\n",
    "import matplotlib as mpl\n",
    "import numpy as np\n",
    "import scipy.optimize as opt\n",
    "import scipy.io as io\n",
    "import scipy as sp\n",
    "\n",
    "mpl.rc(\"savefig\", dpi=72)\n",
    "\n",
    "import itertools\n",
    "\n",
    "sns.set_style('whitegrid')\n",
    "%matplotlib inline"
   ]
  },
  {
   "cell_type": "markdown",
   "metadata": {},
   "source": [
    "## Task 1: Fit RF on simulated data\n",
    "\n",
    "We will start  with toy data generated from an LNP model neuron to make sure everything works right. The model LNP neuron consists of one Gaussian linear filter, an exponential nonlinearity and a Poisson spike count generator. We look at it in discrete time with time bins of width $\\delta t$. The model is:\n",
    "\n",
    "$$\n",
    "c_t \\sim Poisson(r_t)\\\\\n",
    "r_t = \\exp(w^T s_t) \\cdot \\Delta t \\cdot R\n",
    "$$\n",
    "\n",
    "Here, $c_t$ is the spike count in time window $t$ of length $\\Delta t$, $s_t$ is the stimulus and $w$ is the receptive field of the neuron. The receptive field variable `w` is 15 × 15 pixels and normalized to $||w||=1$. A stimulus frame is a 15 × 15 pixel image, for which we use uncorrelated checkerboard noise. R can be used to bring the firing rate into the right regime (e.g. by setting $R=50$).      \n",
    "\n",
    "For computational ease, we reformat the stimulus and the receptive field in a 225 by 1 array. The function ```sampleLNP``` can be used to generate data from this model. It returns a spike count vector `c` with samples from the model (dimensions: 1 by nT = $T/\\Delta t$), a stimulus matrix `s` (dimensions: 225 × nT) and the mean firing rate `r` (dimensions: nT × 1). \n",
    "\n",
    "Here we assume that the receptive field influences the spike count instantaneously just as in the above equations. Implement a Maximum Likelihood approach to fit the receptive field. \n",
    "\n",
    "To this end simplify and implement the log-likelihood function $L(w)$ and its gradient $\\frac{L(w)}{dw}$ with respect to $w$ (`logLikLnp`). The log-likelihood of the model is\n",
    "$$L(w) = \\log \\prod_t \\frac{r_t^{c_t}}{c_t!}\\exp(-r_t).$$\n",
    "\n",
    "Plot the true receptive field, a stimulus frame, the spike counts and the estimated receptive field. \n",
    "\n",
    "*Grading: 2 pts (calculations) + 3 pts (implementation)*\n"
   ]
  },
  {
   "cell_type": "markdown",
   "metadata": {},
   "source": [
    "### Calculations\n",
    "\n",
    "$$\n",
    "L(w) = \\log \\prod_t \\frac{r_t^{c_t}}{c_t!}\\exp(-r_t)\\\\\n",
    " = \\sum_t \\log \\frac{r_t^{c_t}}{c_t!}\\exp(-r_t)\\\\\n",
    " = \\sum_t \\log r_t^{c_t} - \\log c_t! + \\log\\exp(-r_t)\\\\\n",
    " = \\sum_t c_t \\log r_t - \\log c_t! - r_t\\\\\n",
    "$$\n",
    "\n",
    "Because $c_t!$ does not depend on $w$, we can drop it. Using $r_t = \\exp(w^T s_t)$ we obtain:\n",
    "\n",
    "$$\n",
    "L(w) = \\sum_t c_t w^T s_t - \\exp(w^T s_t)\n",
    "$$\n",
    "\n",
    "Note that $s_t$ denotes a vector and $c_t$ a scalar, in slight abuse of notation.\n",
    "\n",
    "For the gradient:\n",
    "\n",
    "$$\n",
    "dL(w)/dw = \\sum_t c_t s_t - s_t \\exp(w^T s_t)\\\\\n",
    "= \\sum_t (c_t - \\exp(w^T s_t))s_t\n",
    "$$\n",
    "\n",
    "This is interesting and makes intuitive sense: for the gradient, each stimulus frame is weighted by the difference between the observed and predicted count.\n",
    "\n"
   ]
  },
  {
   "cell_type": "markdown",
   "metadata": {},
   "source": [
    "### Generate data"
   ]
  },
  {
   "cell_type": "code",
   "execution_count": 34,
   "metadata": {
    "collapsed": true
   },
   "outputs": [],
   "source": [
    "def gen_gauss_rf(D,width, center=(0,0)):\n",
    "    \n",
    "    sz = (D-1)/2\n",
    "    x, y = sp.mgrid[-sz: sz + 1, -sz: sz + 1]\n",
    "    x = x + center[0]\n",
    "    y = y + center[1]\n",
    "    w = sp.exp(- (x ** 2/width + y ** 2 / width))\n",
    "    w = w / np.sum(w.flatten())\n",
    "    \n",
    "    return w"
   ]
  },
  {
   "cell_type": "code",
   "execution_count": 35,
   "metadata": {
    "collapsed": true
   },
   "outputs": [],
   "source": [
    "def sampleLnp(w, nT, dt, R, v):\n",
    "    '''\n",
    "    Generate samples from an instantaneous LNP model neuron with \n",
    "    receptive field w.\n",
    "    \n",
    "    w:  receptive field\n",
    "    nT: number of time steps\n",
    "    dt: duration of a frame in s\n",
    "    R:  rate parameter\n",
    "    v: variance of the stimulus ensemble\n",
    "    \n",
    "    c: sampled spike counts in time bins\n",
    "    r: mean rate in time bins\n",
    "    s: stimulus frames used\n",
    "    '''\n",
    "    \n",
    "    np.random.seed(10)\n",
    "    \n",
    "    s = v * (np.random.uniform(0,1,(D**2,nT)) > 0.5).astype(int)\n",
    "    \n",
    "    r = np.exp(w.T @ s) * dt * R \n",
    "    c = np.random.poisson(r) \n",
    "    \n",
    "    return c, r, s"
   ]
  },
  {
   "cell_type": "code",
   "execution_count": 45,
   "metadata": {
    "collapsed": true
   },
   "outputs": [],
   "source": [
    "D = 15      # number of pixels\n",
    "nT = 1000  # number of time bins\n",
    "dt = .1    # bins of 100 ms\n",
    "R = 10      # firing rate in Hz \n",
    "v = 5      #stimulus variance\n",
    "\n",
    "w = gen_gauss_rf(D,7,(1,1))\n",
    "w = w.flatten()\n",
    "\n",
    "c, r, s = sampleLnp(w, nT, dt, R, v)\n"
   ]
  },
  {
   "cell_type": "markdown",
   "metadata": {},
   "source": [
    "Plot the responses of the cell."
   ]
  },
  {
   "cell_type": "code",
   "execution_count": 46,
   "metadata": {},
   "outputs": [
    {
     "data": {
      "text/plain": [
       "<matplotlib.text.Text at 0xefd7a20>"
      ]
     },
     "execution_count": 46,
     "metadata": {},
     "output_type": "execute_result"
    },
    {
     "data": {
      "image/png": "[encoded data removed]",
      "text/plain": [
       "<matplotlib.figure.Figure at 0xf32fcc0>"
      ]
     },
     "metadata": {},
     "output_type": "display_data"
    }
   ],
   "source": [
    "plt.figure(figsize=(15,4))\n",
    "\n",
    "plt.subplot(1,3,1)\n",
    "plt.imshow(s[:,25].reshape(D,D))\n",
    "plt.grid('off')\n",
    "plt.xticks(range(0,D,2))\n",
    "plt.yticks(range(0,D,2))\n",
    "plt.gca().invert_yaxis()\n",
    "\n",
    "plt.title('Stimulus frame at t=25')\n",
    "\n",
    "t = np.arange(0,nT) * dt;\n",
    "\n",
    "plt.subplot(1,3,2)\n",
    "\n",
    "plt.plot(t,c, c='grey')\n",
    "plt.xlabel('Time (s)')\n",
    "plt.ylabel('Number of spikes')\n",
    "\n",
    "plt.subplot(1,3,3)\n",
    "plt.plot(r,c,'.', c='grey')\n",
    "plt.xlabel('Rate')\n",
    "plt.ylabel('Count')\n"
   ]
  },
  {
   "cell_type": "markdown",
   "metadata": {},
   "source": [
    "### Implementation \n",
    "\n",
    "Before you run your optimizer, make sure the gradient is correct. The helper function `check_grad` in `scipy.optimize` can help you do that. This package also has suitable functions for optimization. If you generate a large number of  samples, the fitted receptive field will look more similar to the true receptive field. With more samples, the optimization takes longer, however."
   ]
  },
  {
   "cell_type": "code",
   "execution_count": 47,
   "metadata": {
    "collapsed": true
   },
   "outputs": [],
   "source": [
    "def logLikeLnp(x, c, s):\n",
    "    '''\n",
    "      Plot spike rasters for a single neuron sorted by condition\n",
    "\n",
    "      f, df = logLikLnp(x,c,s)\n",
    "       Implements the negative (!) log-likelihood of the LNP model and its\n",
    "       gradient with respect to the receptive field w.\n",
    "\n",
    "       x   current receptive field (225 x 1)\n",
    "       c   spike counts (1 x T/dt)\n",
    "       s   stimulus matrix (225 x T/dt)\n",
    "\n",
    "       f   function value of the negative log likelihood at x (scalar)\n",
    "       df  gradient of the negative log likelihood with respect to x (225 x 1)\n",
    "\n",
    "    '''\n",
    "\n",
    "    f = -np.sum(c * (x @ s) - np.exp(x @ s))\n",
    "    df = -np.sum(s * c - s* np.exp(x @ s),axis=1)\n",
    "\n",
    "    return f, df\n"
   ]
  },
  {
   "cell_type": "markdown",
   "metadata": {},
   "source": [
    "Fit receptive field maximizing the log likelihood"
   ]
  },
  {
   "cell_type": "code",
   "execution_count": 48,
   "metadata": {
    "collapsed": true
   },
   "outputs": [],
   "source": [
    "res = opt.minimize(logLikeLnp,x0=np.zeros_like(w), \n",
    "                   args=(c,s), jac=True, method='BFGS')\n",
    "\n",
    "w_opt = res['x']"
   ]
  },
  {
   "cell_type": "code",
   "execution_count": 49,
   "metadata": {},
   "outputs": [
    {
     "data": {
      "text/plain": [
       "([<matplotlib.axis.YTick at 0xf0777f0>,\n",
       "  <matplotlib.axis.YTick at 0xf07bba8>,\n",
       "  <matplotlib.axis.YTick at 0xf080e48>,\n",
       "  <matplotlib.axis.YTick at 0xf0b2240>],\n",
       " <a list of 4 Text yticklabel objects>)"
      ]
     },
     "execution_count": 49,
     "metadata": {},
     "output_type": "execute_result"
    },
    {
     "data": {
      "image/png": "[encoded data removed]",
      "text/plain": [
       "<matplotlib.figure.Figure at 0xef049b0>"
      ]
     },
     "metadata": {},
     "output_type": "display_data"
    }
   ],
   "source": [
    "plt.figure(figsize=(10,5))\n",
    "\n",
    "plt.subplot(1,3,1)\n",
    "plt.imshow(w.reshape(D,D),interpolation='nearest')\n",
    "plt.title('True receptive field')\n",
    "plt.xlim((0,D))\n",
    "plt.ylim((0,D))\n",
    "plt.yticks((0, 5, 10, 15))\n",
    "\n",
    "plt.subplot(1,3,2)\n",
    "plt.imshow(res['x'].reshape(D,D),interpolation='nearest')\n",
    "plt.title('Estimated receptive field')\n",
    "plt.xlim((0,D))\n",
    "plt.ylim((0,D))\n",
    "plt.yticks((0, 5, 10, 15))\n"
   ]
  },
  {
   "cell_type": "markdown",
   "metadata": {},
   "source": [
    "## Task 2: Apply to real neuron\n",
    "\n",
    "Download the dataset for this task from Ilias (`nda_ex_6_data.mat`). It contains a stimulus matrix (`s`) in the same format you used before and the spike times. In addition, there is an array called `trigger` which contains the times at which the stimulus frames were swapped.\n",
    "\n",
    "* Generate an array of spike counts at the same temporal resolution as the stimulus frames\n",
    "* Fit the receptive field with time lags of 0 to 4 frames. Fit them one lag at a time (the ML fit is very sensitive to the number of parameters estimated and will not produce good results if you fit the full space-time receptive field for more than two time lags at once). \n",
    "* Plot the resulting filters\n",
    "\n",
    "*Grading: 2 pts*\n"
   ]
  },
  {
   "cell_type": "code",
   "execution_count": 53,
   "metadata": {
    "collapsed": true
   },
   "outputs": [],
   "source": [
    "var = io.loadmat('../data/nda_ex_6_data.mat')\n",
    "\n",
    "# t contains the spike times of the neuron\n",
    "t = var['DN_spiketimes'].flatten()    \n",
    "\n",
    "# trigger contains the times at which the stimulus flipped\n",
    "trigger = var['DN_triggertimes'].flatten()\n",
    "\n",
    "# contains the stimulus movie with black and white pixels\n",
    "s = var['DN_stim']\n",
    "s = s.reshape((300,1500))\n",
    "s = s[:,1:len(trigger)]\n"
   ]
  },
  {
   "cell_type": "markdown",
   "metadata": {},
   "source": [
    "Create vector of spike counts"
   ]
  },
  {
   "cell_type": "code",
   "execution_count": 54,
   "metadata": {
    "collapsed": true
   },
   "outputs": [],
   "source": [
    "c, b = np.histogram(t,bins=trigger)"
   ]
  },
  {
   "cell_type": "markdown",
   "metadata": {},
   "source": [
    "Fit receptive field for each frame separately"
   ]
  },
  {
   "cell_type": "code",
   "execution_count": 55,
   "metadata": {},
   "outputs": [
    {
     "name": "stdout",
     "output_type": "stream",
     "text": [
      "0\n",
      "1\n",
      "2\n",
      "3\n",
      "4\n"
     ]
    }
   ],
   "source": [
    "delta = [0, 1, 2, 3, 4]\n",
    "\n",
    "w_hat = np.zeros((300,5))\n",
    "\n",
    "\n",
    "for d in delta:\n",
    "    print(d)\n",
    "    \n",
    "    if d==0:\n",
    "        ss = s\n",
    "        cc = c\n",
    "    else:\n",
    "        ss = s[:,0:-d]\n",
    "        cc = c[d::]\n",
    "        \n",
    "    res = opt.minimize(logLikeLnp,x0=np.zeros((300,1)), \n",
    "                   args=(cc,ss), jac=True, method='BFGS')\n",
    "\n",
    "    w_hat[:,d] = res['x']\n",
    "    \n",
    "    \n",
    "\n"
   ]
  },
  {
   "cell_type": "markdown",
   "metadata": {},
   "source": [
    "Plot the frames one by one"
   ]
  },
  {
   "cell_type": "code",
   "execution_count": 56,
   "metadata": {},
   "outputs": [
    {
     "data": {
      "image/png": "[encoded data removed]",
      "text/plain": [
       "<matplotlib.figure.Figure at 0xf0dbef0>"
      ]
     },
     "metadata": {},
     "output_type": "display_data"
    }
   ],
   "source": [
    "plt.figure(figsize=(10,4))\n",
    "\n",
    "vm = np.percentile(w_hat.flatten(),.05)\n",
    "\n",
    "for i in delta:\n",
    "    plt.subplot(1,5,i+1)\n",
    "    plt.imshow(w_hat[:,i].reshape(20,15),\n",
    "               vmin=np.percentile(w_hat.flatten(),1),\n",
    "               vmax=np.percentile(w_hat.flatten(),99.5),)\n",
    "    plt.title('delta = {}'.format(i))\n",
    "    plt.xticks([])\n",
    "    plt.yticks([])"
   ]
  },
  {
   "cell_type": "markdown",
   "metadata": {},
   "source": [
    "## Task 3: Separate space/time components\n",
    "\n",
    "The receptive field of the neuron can be decomposed into a spatial and a temporal component. Because of the way we computed them, both are independent and the resulting spatio-temporal component is thus called separable. As discussed in the lecture, you can use singular-value decomposition to separate these two: \n",
    "\n",
    "$$\n",
    "W = u_1 s_1 v_1^T\n",
    "$$\n",
    "\n",
    "Here $u_1$ and $v_1$ are the singular vectors belonging to the 1st singular value $s_1$ and provide a long rank approximation of W, the array with all receptive fields. It is important that the mean is subtracted before computing the SVD.  \n",
    "\n",
    "Plot the first temporal component and the first spatial component. You can use a Python implementation of SVD. The results can look a bit puzzling, because the sign of the components is arbitrary.\n",
    "\n",
    "*Grading: 1 pts*"
   ]
  },
  {
   "cell_type": "code",
   "execution_count": 60,
   "metadata": {},
   "outputs": [
    {
     "data": {
      "text/plain": [
       "(300, 5)"
      ]
     },
     "execution_count": 60,
     "metadata": {},
     "output_type": "execute_result"
    }
   ],
   "source": [
    "w_hat.shape"
   ]
  },
  {
   "cell_type": "code",
   "execution_count": 64,
   "metadata": {},
   "outputs": [
    {
     "data": {
      "text/plain": [
       "<matplotlib.text.Text at 0xf3a4ba8>"
      ]
     },
     "execution_count": 64,
     "metadata": {},
     "output_type": "execute_result"
    },
    {
     "data": {
      "image/png": "[encoded data removed]",
      "text/plain": [
       "<matplotlib.figure.Figure at 0xf3c1e10>"
      ]
     },
     "metadata": {},
     "output_type": "display_data"
    }
   ],
   "source": [
    "U, S, V = np.linalg.svd(w_hat-np.mean(w_hat,axis=1).reshape(-1,1))\n",
    "\n",
    "plt.subplot(121)\n",
    "plt.imshow(U[:,0].reshape(20,15))\n",
    "plt.xticks([])\n",
    "plt.yticks([])\n",
    "plt.title('Spatial component')\n",
    "\n",
    "plt.subplot(122)\n",
    "plt.plot(V[0,:])\n",
    "plt.title('Time course')\n",
    "plt.xlabel('Time lag')\n"
   ]
  },
  {
   "cell_type": "markdown",
   "metadata": {},
   "source": [
    "## Task 4: Regularized receptive field\n",
    "\n",
    "As you can see, maximum likelihood estimation of linear receptive fields can be quite noisy, if little data is available. \n",
    "\n",
    "To improve on this, one can regularize the receptive field vector and a term to the cost function\n",
    "\n",
    "\n",
    "$$\n",
    "C(w) = L(w) + \\alpha ||w||_p^2\n",
    "$$\n",
    "\n",
    "Here, the $p$ indicates which norm of $w$ is used: for $p=2$, this is shrinks all coefficient equally to zero; for $p=1$, it favors sparse solutions, a penality also known as lasso. Because the 1-norm is not smooth at zero, it is not as straightforward to implement \"by hand\". \n",
    "\n",
    "Use a toolbox with an implementation of the lasso-penalization and fit the receptive field. Possibly, you will have to try different values of the regularization parameter $\\alpha$. Plot your estimates from above and the lasso-estimates. How do they differ? What happens when you increase or decrease $alpha$?\n",
    "\n",
    "If you want to keep the Poisson noise model, you can use the implementation in [`pyglmnet`](https://pypi.python.org/pypi/pyglmnet). Otherwise, you can also resort to the linear model from `sklearn` which assumes Gaussian noise (which in my hands was much faster).\n",
    "\n",
    "*Grading: 2 pts*\n"
   ]
  },
  {
   "cell_type": "code",
   "execution_count": 25,
   "metadata": {},
   "outputs": [
    {
     "name": "stdout",
     "output_type": "stream",
     "text": [
      "0\n",
      "1\n",
      "2\n",
      "3\n",
      "4\n"
     ]
    }
   ],
   "source": [
    "from sklearn import linear_model\n",
    "\n",
    "delta = [0, 1, 2, 3, 4]\n",
    "\n",
    "w_reg = np.zeros((300,5))\n",
    "\n",
    "\n",
    "for d in delta:\n",
    "    print(d)\n",
    "    \n",
    "    if d==0:\n",
    "        ss = s\n",
    "        cc = c\n",
    "    else:\n",
    "        ss = s[:,0:-d]\n",
    "        cc = c[d::]\n",
    "        \n",
    "    mdl = linear_model.Lasso(alpha=0.03)\n",
    "\n",
    "    mdl.fit(ss.T,cc)\n",
    "    \n",
    "    w_reg[:,d] = mdl.coef_.flatten()\n",
    "        \n",
    "    \n",
    "    "
   ]
  },
  {
   "cell_type": "code",
   "execution_count": 26,
   "metadata": {},
   "outputs": [
    {
     "data": {
      "image/png": "[encoded data removed]",
      "text/plain": [
       "<matplotlib.figure.Figure at 0x7f4d4da4aef0>"
      ]
     },
     "metadata": {},
     "output_type": "display_data"
    }
   ],
   "source": [
    "plt.figure(figsize=(10,8))\n",
    "\n",
    "vm = np.percentile(w_hat.flatten(),.05)\n",
    "\n",
    "for i in delta:\n",
    "    plt.subplot(2,5,i+1)\n",
    "    plt.imshow(w_hat[:,i].reshape(20,15),\n",
    "               vmin=np.percentile(w_hat.flatten(),0.05),\n",
    "               vmax=np.percentile(w_hat.flatten(),99.5))\n",
    "    plt.title('delta = {}'.format(i))\n",
    "    plt.xticks([])\n",
    "    plt.yticks([])\n",
    "    \n",
    "    plt.subplot(2,5,i+6)\n",
    "    plt.imshow(w_reg[:,i].reshape(20,15),\n",
    "               vmin=np.percentile(w_hat.flatten(),0.05),\n",
    "               vmax=np.percentile(w_hat.flatten(),99.5))\n",
    "    plt.xticks([])\n",
    "    plt.yticks([])"
   ]
  }
 ],
 "metadata": {
  "anaconda-cloud": {},
  "kernelspec": {
   "display_name": "Python [default]",
   "language": "python",
   "name": "python3"
  },
  "language_info": {
   "codemirror_mode": {
    "name": "ipython",
    "version": 3
   },
   "file_extension": ".py",
   "mimetype": "text/x-python",
   "name": "python",
   "nbconvert_exporter": "python",
   "pygments_lexer": "ipython3",
   "version": "3.5.3"
  }
 },
 "nbformat": 4,
 "nbformat_minor": 1
}
